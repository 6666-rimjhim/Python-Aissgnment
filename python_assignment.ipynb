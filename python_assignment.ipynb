{
  "nbformat": 4,
  "nbformat_minor": 0,
  "metadata": {
    "colab": {
      "provenance": []
    },
    "kernelspec": {
      "name": "python3",
      "display_name": "Python 3"
    },
    "language_info": {
      "name": "python"
    }
  },
  "cells": [
    {
      "cell_type": "markdown",
      "source": [
        "# Assignment"
      ],
      "metadata": {
        "id": "DBByuKl6qWJi"
      }
    },
    {
      "cell_type": "markdown",
      "source": [
        "1. What are Python's built in data types?\n",
        " - String\n",
        " - Float\n",
        " - Integers\n",
        " - Complex\n",
        " - Boolean\n",
        " - None\n",
        "\n",
        "2. Why Python is used extensively in Data Science?\n",
        " - There are a lot of libraries(some inbuilt functions) in Python. About 1,37,000 libraries are there in Python.\n",
        " - Python is easy to learn and use.\n",
        " - It has a huge active community.\n",
        " - It is widely used in dats industries.\n",
        " - It is a versatile language that cab be used for various tasks like automation.\n",
        "\n",
        "3. Explain the difference between lists and tuples in Python.\n",
        " - Lists are mutable objects/containers whose state or value can be changed after they are created.\n",
        " - Tuples are immutable objects/containers whose state or value cannot be changed after they are created.\n",
        "\n",
        "4. What are Python's predefined keywords and their uses?\n",
        " - Keywords are predefined words that holds a specific meaning and have a specific purpose."
      ],
      "metadata": {
        "id": "R5MyepfMrbdt"
      }
    },
    {
      "cell_type": "markdown",
      "source": [
        "Some Keywords are - help, if, if else, if elif else, nested if else, def, for, while, break, continue, and, or, ture, false, none, and there many more.\n"
      ],
      "metadata": {
        "id": "e74P4w9nrhrn"
      }
    },
    {
      "cell_type": "code",
      "source": [
        "#uses\n",
        "help(\"keywords\")"
      ],
      "metadata": {
        "colab": {
          "base_uri": "https://localhost:8080/"
        },
        "id": "8kx_gu5YAHGM",
        "outputId": "9e6e926c-7f6d-447b-f35c-11016df7d163"
      },
      "execution_count": null,
      "outputs": [
        {
          "output_type": "stream",
          "name": "stdout",
          "text": [
            "\n",
            "Here is a list of the Python keywords.  Enter any keyword to get more help.\n",
            "\n",
            "False               class               from                or\n",
            "None                continue            global              pass\n",
            "True                def                 if                  raise\n",
            "and                 del                 import              return\n",
            "as                  elif                in                  try\n",
            "assert              else                is                  while\n",
            "async               except              lambda              with\n",
            "await               finally             nonlocal            yield\n",
            "break               for                 not                 \n",
            "\n"
          ]
        }
      ]
    },
    {
      "cell_type": "code",
      "source": [
        "#for example\n",
        "#conditionals >> helps you to code decisions based on some preconditions\n",
        "#if\n",
        "a = 100\n",
        "b = 300\n",
        "if b > a:\n",
        "  print(\"b is greater than a\")\n"
      ],
      "metadata": {
        "id": "565Lxv6UAfv3",
        "colab": {
          "base_uri": "https://localhost:8080/"
        },
        "outputId": "d0ec6c21-b352-4026-ad68-6ae347850b0b"
      },
      "execution_count": null,
      "outputs": [
        {
          "output_type": "stream",
          "name": "stdout",
          "text": [
            "b is greater than a\n"
          ]
        }
      ]
    },
    {
      "cell_type": "markdown",
      "source": [
        "5. How does Python handles mutability and immutability?\n",
        " - Python's mutable objects, such as list that allows you to change their value or data directly without affecting their identity.\n",
        " - Python's immutability objects, such as strings that don't allow you to do modifications.\n",
        " - Mutable objects such as lists and dictionaries, can be modified after creation, while immutable objects such as string and tuples cannot.\n",
        " - Mutability affects hoe objects are stored and manipulated in memory, impacting performance, memory usage, and concurrency in Python programs.\n",
        "  "
      ],
      "metadata": {
        "id": "qEcFERfgClAX"
      }
    },
    {
      "cell_type": "markdown",
      "source": [
        "6. What is the significance of mutability in Python data structures?\n",
        " - Python provides several in-built data structures, and their mutibility determines how they behave in practise.\n",
        " for example -\n",
        " Lists - Mutable object\n",
        " you can add, remove, or change elements in place."
      ],
      "metadata": {
        "id": "p0rjW6GIlYsr"
      }
    },
    {
      "cell_type": "code",
      "source": [
        "list_cont = [1, 2, 3, 4+5j, True, False, \"Rimjhim\"]\n",
        "list_cont"
      ],
      "metadata": {
        "colab": {
          "base_uri": "https://localhost:8080/"
        },
        "id": "Wwj_6bXOCKMP",
        "outputId": "6d8a9882-c4df-4ca5-dbd6-138403ec05a0"
      },
      "execution_count": null,
      "outputs": [
        {
          "output_type": "execute_result",
          "data": {
            "text/plain": [
              "[1, 2, 3, (4+5j), True, False, 'Rimjhim']"
            ]
          },
          "metadata": {},
          "execution_count": 6
        }
      ]
    },
    {
      "cell_type": "code",
      "source": [
        "list_cont[4]"
      ],
      "metadata": {
        "colab": {
          "base_uri": "https://localhost:8080/"
        },
        "id": "cPK2scteCKa0",
        "outputId": "804a5637-30ba-4dc8-f7cc-ed3f408a5710"
      },
      "execution_count": null,
      "outputs": [
        {
          "output_type": "execute_result",
          "data": {
            "text/plain": [
              "True"
            ]
          },
          "metadata": {},
          "execution_count": 5
        }
      ]
    },
    {
      "cell_type": "code",
      "source": [
        "list_cont[6] = \"Jahaan\"\n",
        "list_cont"
      ],
      "metadata": {
        "colab": {
          "base_uri": "https://localhost:8080/"
        },
        "id": "4W1B2DFHr04o",
        "outputId": "d32fb484-9619-4a5e-8941-2f05b5362374"
      },
      "execution_count": null,
      "outputs": [
        {
          "output_type": "execute_result",
          "data": {
            "text/plain": [
              "[1, 2, 3, (4+5j), 8, False, 'Jahaan']"
            ]
          },
          "metadata": {},
          "execution_count": 14
        }
      ]
    },
    {
      "cell_type": "code",
      "source": [
        "list_cont[0] = \"200\"\n",
        "list_cont"
      ],
      "metadata": {
        "colab": {
          "base_uri": "https://localhost:8080/"
        },
        "id": "rAwSAyxGr1Gt",
        "outputId": "b91c0021-418a-408c-eaaa-e320a8cd4462"
      },
      "execution_count": null,
      "outputs": [
        {
          "output_type": "execute_result",
          "data": {
            "text/plain": [
              "['200', 2, 3, (4+5j), 8, False, 'Jahaan']"
            ]
          },
          "metadata": {},
          "execution_count": 15
        }
      ]
    },
    {
      "cell_type": "markdown",
      "source": [
        "7. Explain different types of operators in Python(Arithmetic, Logical, etc.).\n",
        "\n",
        " Python Operators are special keywords/symbols that are used to perform operations on value or varible.\n",
        " - Arithemetic Operators - add(+), subtract(-), multiplication(*), division(%), modules(), exponentation(\"\")\n",
        " - Comparision Operators - equals(=), not equals(!=), greater(>), smaller(<), greater or equals to(>=), smaller or equals to(<=)\n",
        " - Logical Operators - logical AND, logical OR, logical NOT(not)\n",
        " - Bitwise Operator - AND(&), OR(/), NOT, NOT OR(^), left shift(<<), right shift(>>)\n",
        " - Assignment Operators - +, -, *, %\n",
        " - Membership Operators - in, not in\n",
        " - Identity Operators - is, is not\n",
        "\n"
      ],
      "metadata": {
        "id": "pQKIfayrtErp"
      }
    },
    {
      "cell_type": "markdown",
      "source": [
        "8. How do you perform type casting in Python?\n",
        " - Type casting/type convertion is the process of changing data type of a value/object.\n",
        " #string into integer\n",
        ""
      ],
      "metadata": {
        "id": "q7qg3o_Q56xo"
      }
    },
    {
      "cell_type": "code",
      "source": [
        "a = \"2\"\n",
        "print(type(a))\n",
        "print(type(int(a)))"
      ],
      "metadata": {
        "id": "wHiGOPXttCwg",
        "colab": {
          "base_uri": "https://localhost:8080/"
        },
        "outputId": "b3193a78-1bd0-4cdb-a0cc-57261bd10dd8"
      },
      "execution_count": 1,
      "outputs": [
        {
          "output_type": "stream",
          "name": "stdout",
          "text": [
            "<class 'str'>\n",
            "<class 'int'>\n"
          ]
        }
      ]
    },
    {
      "cell_type": "code",
      "source": [
        "int(a) #using type casting we can change string into integer"
      ],
      "metadata": {
        "id": "T2Kwqc36tC3H",
        "colab": {
          "base_uri": "https://localhost:8080/"
        },
        "outputId": "ea8aa14c-2d5a-43a1-ea75-9fdaeae244f8"
      },
      "execution_count": 2,
      "outputs": [
        {
          "output_type": "execute_result",
          "data": {
            "text/plain": [
              "2"
            ]
          },
          "metadata": {},
          "execution_count": 2
        }
      ]
    },
    {
      "cell_type": "code",
      "source": [
        "#float into integer\n",
        "b = 2.5\n",
        "print(type(b))\n",
        "print(type(int(b)))"
      ],
      "metadata": {
        "colab": {
          "base_uri": "https://localhost:8080/"
        },
        "id": "A_Wb2Hy51uJh",
        "outputId": "6851680c-b7ec-4d6f-a29f-7b419ad1d14a"
      },
      "execution_count": 3,
      "outputs": [
        {
          "output_type": "stream",
          "name": "stdout",
          "text": [
            "<class 'float'>\n",
            "<class 'int'>\n"
          ]
        }
      ]
    },
    {
      "cell_type": "code",
      "source": [
        "int(b)"
      ],
      "metadata": {
        "colab": {
          "base_uri": "https://localhost:8080/"
        },
        "id": "YGYdnIXQ1uaZ",
        "outputId": "2bb9ee05-2b59-4afa-ce38-87cf874b0a7c"
      },
      "execution_count": 5,
      "outputs": [
        {
          "output_type": "execute_result",
          "data": {
            "text/plain": [
              "2"
            ]
          },
          "metadata": {},
          "execution_count": 5
        }
      ]
    },
    {
      "cell_type": "code",
      "source": [
        "#integer to float\n",
        "a = 2\n",
        "type(a)"
      ],
      "metadata": {
        "colab": {
          "base_uri": "https://localhost:8080/"
        },
        "id": "DmG85BoO1ulU",
        "outputId": "b4667227-ce5e-4e3c-b4ec-7557261dfeba"
      },
      "execution_count": 6,
      "outputs": [
        {
          "output_type": "execute_result",
          "data": {
            "text/plain": [
              "int"
            ]
          },
          "metadata": {},
          "execution_count": 6
        }
      ]
    },
    {
      "cell_type": "code",
      "source": [
        "b = float(a)\n",
        "b"
      ],
      "metadata": {
        "colab": {
          "base_uri": "https://localhost:8080/"
        },
        "id": "w2-ro40i2ZJE",
        "outputId": "4ca51de6-cbc1-4cac-c6df-f99af84ac9be"
      },
      "execution_count": 8,
      "outputs": [
        {
          "output_type": "execute_result",
          "data": {
            "text/plain": [
              "2.0"
            ]
          },
          "metadata": {},
          "execution_count": 8
        }
      ]
    },
    {
      "cell_type": "code",
      "source": [
        "type(b)"
      ],
      "metadata": {
        "colab": {
          "base_uri": "https://localhost:8080/"
        },
        "id": "C1Qyszv92ZLP",
        "outputId": "f79f379c-036e-4e66-f2d4-2c1bf701b23d"
      },
      "execution_count": 9,
      "outputs": [
        {
          "output_type": "execute_result",
          "data": {
            "text/plain": [
              "float"
            ]
          },
          "metadata": {},
          "execution_count": 9
        }
      ]
    },
    {
      "cell_type": "code",
      "source": [
        "#string into float\n",
        "a = \"5.5\"\n",
        "type(a)"
      ],
      "metadata": {
        "colab": {
          "base_uri": "https://localhost:8080/"
        },
        "id": "3T9tFBl72ZQz",
        "outputId": "9ffcb6de-02d2-4a7e-efca-0b9c69f96c76"
      },
      "execution_count": 10,
      "outputs": [
        {
          "output_type": "execute_result",
          "data": {
            "text/plain": [
              "str"
            ]
          },
          "metadata": {},
          "execution_count": 10
        }
      ]
    },
    {
      "cell_type": "code",
      "source": [
        "float(a)"
      ],
      "metadata": {
        "colab": {
          "base_uri": "https://localhost:8080/"
        },
        "id": "FSCLKZLG2seE",
        "outputId": "539ae8ba-3ed4-496f-aebe-c21655315649"
      },
      "execution_count": 11,
      "outputs": [
        {
          "output_type": "execute_result",
          "data": {
            "text/plain": [
              "5.5"
            ]
          },
          "metadata": {},
          "execution_count": 11
        }
      ]
    },
    {
      "cell_type": "code",
      "source": [
        "b = float(a)\n",
        "type(b)"
      ],
      "metadata": {
        "colab": {
          "base_uri": "https://localhost:8080/"
        },
        "id": "XKUoRgh42sgh",
        "outputId": "4f712d1a-82c8-40fa-de90-84c254f99f35"
      },
      "execution_count": 12,
      "outputs": [
        {
          "output_type": "execute_result",
          "data": {
            "text/plain": [
              "float"
            ]
          },
          "metadata": {},
          "execution_count": 12
        }
      ]
    },
    {
      "cell_type": "code",
      "source": [
        "a = \"you\"\n",
        "type(a)"
      ],
      "metadata": {
        "colab": {
          "base_uri": "https://localhost:8080/"
        },
        "id": "hqvtY5mX2sjD",
        "outputId": "b7de96d0-4af5-46b8-bc79-139f1530cce7"
      },
      "execution_count": 13,
      "outputs": [
        {
          "output_type": "execute_result",
          "data": {
            "text/plain": [
              "str"
            ]
          },
          "metadata": {},
          "execution_count": 13
        }
      ]
    },
    {
      "cell_type": "code",
      "source": [
        "int(a) #characters cannot be converted into numbers"
      ],
      "metadata": {
        "colab": {
          "base_uri": "https://localhost:8080/",
          "height": 141
        },
        "id": "x2wppgCS2smh",
        "outputId": "6ab5d5c9-4f41-44b3-ddea-33f48c3f14bf"
      },
      "execution_count": 14,
      "outputs": [
        {
          "output_type": "error",
          "ename": "ValueError",
          "evalue": "invalid literal for int() with base 10: 'you'",
          "traceback": [
            "\u001b[0;31m---------------------------------------------------------------------------\u001b[0m",
            "\u001b[0;31mValueError\u001b[0m                                Traceback (most recent call last)",
            "\u001b[0;32m/tmp/ipython-input-14-766485689.py\u001b[0m in \u001b[0;36m<cell line: 0>\u001b[0;34m()\u001b[0m\n\u001b[0;32m----> 1\u001b[0;31m \u001b[0mint\u001b[0m\u001b[0;34m(\u001b[0m\u001b[0ma\u001b[0m\u001b[0;34m)\u001b[0m\u001b[0;34m\u001b[0m\u001b[0;34m\u001b[0m\u001b[0m\n\u001b[0m",
            "\u001b[0;31mValueError\u001b[0m: invalid literal for int() with base 10: 'you'"
          ]
        }
      ]
    },
    {
      "cell_type": "code",
      "source": [
        "#integer into string\n",
        "a = 7\n",
        "type(a)"
      ],
      "metadata": {
        "colab": {
          "base_uri": "https://localhost:8080/"
        },
        "id": "L1dxvsmp3VRO",
        "outputId": "4cc77d9b-16ca-4bd5-f255-e96034d0fc7c"
      },
      "execution_count": 15,
      "outputs": [
        {
          "output_type": "execute_result",
          "data": {
            "text/plain": [
              "int"
            ]
          },
          "metadata": {},
          "execution_count": 15
        }
      ]
    },
    {
      "cell_type": "code",
      "source": [
        "c = str(a)\n",
        "c"
      ],
      "metadata": {
        "colab": {
          "base_uri": "https://localhost:8080/",
          "height": 36
        },
        "id": "4OYwzV9p3VXi",
        "outputId": "c4d83778-d742-4ebd-842d-55d6525c1497"
      },
      "execution_count": 16,
      "outputs": [
        {
          "output_type": "execute_result",
          "data": {
            "text/plain": [
              "'7'"
            ],
            "application/vnd.google.colaboratory.intrinsic+json": {
              "type": "string"
            }
          },
          "metadata": {},
          "execution_count": 16
        }
      ]
    },
    {
      "cell_type": "code",
      "source": [
        "type(c)"
      ],
      "metadata": {
        "colab": {
          "base_uri": "https://localhost:8080/"
        },
        "id": "xGbycCkf3ksp",
        "outputId": "f68a481f-9019-46bb-eb93-d55eef2f0341"
      },
      "execution_count": 18,
      "outputs": [
        {
          "output_type": "execute_result",
          "data": {
            "text/plain": [
              "str"
            ]
          },
          "metadata": {},
          "execution_count": 18
        }
      ]
    },
    {
      "cell_type": "markdown",
      "source": [
        "9. Explain the difference between implicit and explicit type casting in Python.\n",
        " -"
      ],
      "metadata": {
        "id": "-JVGa-Bt3qSg"
      }
    },
    {
      "cell_type": "markdown",
      "source": [
        "10. What is the significance of conditionals in Python?\n",
        " - Conditionals in Python are fundamental constructs that enable programs to make decisions and control the flow of execution based on specific conditions. For example : if you want to play football you may have conditions like if the weather is sunny. I will go to play football.\n",
        " Conditional Statements-\n",
        " - if\n",
        " - if-else\n",
        " - if-elif-else\n",
        " - nested if-else\n",
        ""
      ],
      "metadata": {
        "id": "pavd7ycL4ibS"
      }
    },
    {
      "cell_type": "code",
      "source": [
        "weather = \"sunny\"\n",
        "if weather == \"sunny\":\n",
        "  print(\"I will play football\")"
      ],
      "metadata": {
        "colab": {
          "base_uri": "https://localhost:8080/"
        },
        "id": "roQA8GZp3kvM",
        "outputId": "974c2fe4-a01a-49c9-b3f5-9d90ca8d5a4b"
      },
      "execution_count": 20,
      "outputs": [
        {
          "output_type": "stream",
          "name": "stdout",
          "text": [
            "I will play football\n"
          ]
        }
      ]
    },
    {
      "cell_type": "code",
      "source": [
        "temp = 40\n",
        "if temp>35:\n",
        "  print(\"Room temperature is high\")\n",
        "else:\n",
        "  print(\"Room temperature is low\")"
      ],
      "metadata": {
        "colab": {
          "base_uri": "https://localhost:8080/"
        },
        "id": "NC6Ns-aJ3kxP",
        "outputId": "3910a1f6-d8fb-4707-8e70-4a333aba2155"
      },
      "execution_count": 23,
      "outputs": [
        {
          "output_type": "stream",
          "name": "stdout",
          "text": [
            "Room temperature is high\n"
          ]
        }
      ]
    },
    {
      "cell_type": "markdown",
      "source": [
        "11. How would you implement a switch-case statement in Python?\n",
        " - Python does not have a traditional switch-case statement like some other programming languages. however, similar function can be achieved by using:\n",
        "\n",
        " #if-elif-else method"
      ],
      "metadata": {
        "id": "itCy1CZM7LsG"
      }
    },
    {
      "cell_type": "code",
      "source": [
        "score = 1000\n",
        "if score < 900:\n",
        "  print(\"Grade A\")\n",
        "elif score > 800:\n",
        "  print(\"Grade B\")\n",
        "elif score < 2000:\n",
        "  print(\"Grade C\")\n",
        "else:\n",
        "  print(\"Grade D\")"
      ],
      "metadata": {
        "colab": {
          "base_uri": "https://localhost:8080/"
        },
        "id": "KiHVDEpF3k0x",
        "outputId": "56b2b32a-88cd-464b-f5ff-6a67f346a3db"
      },
      "execution_count": 25,
      "outputs": [
        {
          "output_type": "stream",
          "name": "stdout",
          "text": [
            "Grade B\n"
          ]
        }
      ]
    },
    {
      "cell_type": "markdown",
      "source": [
        "12. What are loops in Python? How do you differentiate between for and while statement in Python?\n",
        " - Loop Statement allows you to execute a block of code repeatedly. They are essential for automating repetetive tasks and iterating over collection of data.\n",
        " There are two types of loops:\n",
        " 1. for : used for executing a block of code for each item in a sequence.(like lists, string, tuple, range)\n",
        "\n"
      ],
      "metadata": {
        "id": "CIVSI2oD9ayC"
      }
    },
    {
      "cell_type": "code",
      "source": [
        "a = [1, 2, 3, \"Rimjhim\", \"Varu\"]\n",
        "for i in a:\n",
        "  print(i)\n"
      ],
      "metadata": {
        "colab": {
          "base_uri": "https://localhost:8080/"
        },
        "id": "rGJcvnbP9VSZ",
        "outputId": "7d5edf30-f844-401e-9ebe-f39e73c4c041"
      },
      "execution_count": 26,
      "outputs": [
        {
          "output_type": "stream",
          "name": "stdout",
          "text": [
            "1\n",
            "2\n",
            "3\n",
            "Rimjhim\n",
            "Varu\n"
          ]
        }
      ]
    },
    {
      "cell_type": "code",
      "source": [
        "a = \"London\"\n",
        "for i in a:\n",
        "  print(i)"
      ],
      "metadata": {
        "colab": {
          "base_uri": "https://localhost:8080/"
        },
        "id": "1e3W39St9VV2",
        "outputId": "9c63ed9b-a0e9-47d3-b98f-528ac94c7969"
      },
      "execution_count": 27,
      "outputs": [
        {
          "output_type": "stream",
          "name": "stdout",
          "text": [
            "L\n",
            "o\n",
            "n\n",
            "d\n",
            "o\n",
            "n\n"
          ]
        }
      ]
    },
    {
      "cell_type": "markdown",
      "source": [
        " 2. while : used to execute a block of code repeatedly until the condition remains true.  "
      ],
      "metadata": {
        "id": "WNOQlRLF_elA"
      }
    },
    {
      "cell_type": "code",
      "source": [
        "n = 7\n",
        "i = 1\n",
        "while i < n:\n",
        "  print(i)\n",
        "  i = i+1"
      ],
      "metadata": {
        "colab": {
          "base_uri": "https://localhost:8080/"
        },
        "id": "dAf3Hod2_dbd",
        "outputId": "b880a5ca-c924-4542-c6ea-13ab55da5d08"
      },
      "execution_count": 28,
      "outputs": [
        {
          "output_type": "stream",
          "name": "stdout",
          "text": [
            "1\n",
            "2\n",
            "3\n",
            "4\n",
            "5\n",
            "6\n"
          ]
        }
      ]
    },
    {
      "cell_type": "code",
      "source": [
        "n = 10\n",
        "i = 1\n",
        "while i < n:\n",
        "  print(i)\n",
        "  i = i+1\n",
        "else:\n",
        "  print(\"This is True\")"
      ],
      "metadata": {
        "colab": {
          "base_uri": "https://localhost:8080/"
        },
        "id": "XpvjIFTh_ddr",
        "outputId": "9bbe609d-8f42-43b3-f0c7-7f86902acd46"
      },
      "execution_count": 30,
      "outputs": [
        {
          "output_type": "stream",
          "name": "stdout",
          "text": [
            "1\n",
            "2\n",
            "3\n",
            "4\n",
            "5\n",
            "6\n",
            "7\n",
            "8\n",
            "9\n",
            "This is True\n"
          ]
        }
      ]
    },
    {
      "cell_type": "markdown",
      "source": [
        "13. How do you use break, continue and pass in Python loops?\n",
        " - break terminates/exits the loop.\n",
        " If the condition is met it will break the loop.\n",
        " - continue skips the reaction."
      ],
      "metadata": {
        "id": "yztYOsXSAwkI"
      }
    },
    {
      "cell_type": "code",
      "source": [
        "#break\n",
        "n = 7\n",
        "i = 1\n",
        "while i < n:\n",
        "  print(i)\n",
        "  if i == 4:\n",
        "    break\n",
        "  i = i+1"
      ],
      "metadata": {
        "colab": {
          "base_uri": "https://localhost:8080/"
        },
        "id": "cv-nU1SJ_dgD",
        "outputId": "8910d572-c39c-4778-fde6-76e6716fb50f"
      },
      "execution_count": 2,
      "outputs": [
        {
          "output_type": "stream",
          "name": "stdout",
          "text": [
            "1\n",
            "2\n",
            "3\n",
            "4\n"
          ]
        }
      ]
    },
    {
      "cell_type": "code",
      "source": [
        "#continue\n",
        "n = 7\n",
        "i = 1\n",
        "while i < n:\n",
        "  i = i+1\n",
        "  if i == 4:\n",
        "    continue\n",
        "  print(i)"
      ],
      "metadata": {
        "colab": {
          "base_uri": "https://localhost:8080/"
        },
        "id": "BXWSP3n2_djh",
        "outputId": "eac7dcf2-1516-42bd-a91a-32c8ba925bf3"
      },
      "execution_count": 3,
      "outputs": [
        {
          "output_type": "stream",
          "name": "stdout",
          "text": [
            "2\n",
            "3\n",
            "5\n",
            "6\n",
            "7\n"
          ]
        }
      ]
    }
  ]
}