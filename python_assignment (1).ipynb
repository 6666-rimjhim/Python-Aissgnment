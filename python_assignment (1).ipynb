{
  "nbformat": 4,
  "nbformat_minor": 0,
  "metadata": {
    "colab": {
      "provenance": []
    },
    "kernelspec": {
      "name": "python3",
      "display_name": "Python 3"
    },
    "language_info": {
      "name": "python"
    }
  },
  "cells": [
    {
      "cell_type": "code",
      "execution_count": null,
      "metadata": {
        "id": "hJwuO-pW8r-A"
      },
      "outputs": [],
      "source": []
    },
    {
      "cell_type": "code",
      "source": [],
      "metadata": {
        "id": "qZMdqXqTZiX9"
      },
      "execution_count": null,
      "outputs": []
    },
    {
      "cell_type": "markdown",
      "metadata": {
        "id": "c0086a22"
      },
      "source": [
        "1. What is Python, and why is it popular?\n",
        "- Python is a high-level, versatile programming language known for its readability and ease of use. It's popular due to its simple syntax, extensive libraries, wide range of applications, including web development, data science, machine learning, and automation.\n",
        "- Python is easy to use, read and learn for the beginners.\n",
        "- Python is versatile.\n",
        "- It has vast collection of in-built libraries and frameworks,\n",
        "- Python has a strong and active community that provides users ample resources and assistance.\n",
        "- Python is widely used in various industries, making it valuable skill to have.\n",
        "\n",
        "2. What is an interpreter in Python?\n",
        "- An interpreter is a program that directly executes instructions written in a programming language, without requiring them previously to have been compiled into a machine-language program. Python is an interpreted language, meaning that the code is executed line by line by the Python interpreter.\n",
        "\n",
        "3. What are pre-defined keywordsin Python?\n",
        "- Pre-defined keywords in Python are special reserved words that have specific meanings and purposes in the language. They are used to define the syntax and structure of the Python code. Keywords cannot be used as variable names, function names, or any other identifiers. Examples of keywords include `if`, `else`, `for`, `while`, `def`, `class`, `import`, `True`, `False`, `None`, etc.\n",
        "\n",
        "4. Can keywords be used as variable names?\n",
        "- No, keywords cannot be used as variable names in Python because they have specific meanings and are reserved for defining the syntax and structure of the language.\n",
        "\n",
        "5. What is mutability in Python?\n",
        "- Mutable objects/container whose state or value can be change or modified after they are created are called mutable objects or also known as item assignment. >>list is a type of mutable object that supports item assignment.\n",
        "\n",
        "6. Why are lists mutable, but tuples are immutables?\n",
        "- Lists are mutable because their contents can be changed after they are created using methods like append, insert, or item assignment. Tuples, on the other hand, are immutable because their contents cannot be changed after creation. This immutability provides benefits like ensuring data integrity and allowing tuples to be used as dictionary keys.\n",
        "\n",
        "7. What is the difference between \"==\" and \"is\" operators in Python?\n",
        "- In Python , \"==\" and \"is\" both are used for comparision, but they serve different purpose:\n",
        "- \"==\"(Equality operator) - this operator compares the values of two objects. It checks if the contenet or data are the same.\n",
        "- \"is\"(Identity operator) - this operator compares the identity of two objects.It checks if two variables refer to the exact same object in memory'\n",
        "\n",
        "8. What are Logical Operators in Python?\n",
        "- Logical operators are used to combine conditional statements. In Python, the main logical operators are `and`, `or`, and `not`.\n",
        "- `and`: Returns `True` if both statements are true.\n",
        "- `or`: Returns `True` if at least one of the statements is true.\n",
        "- `not`: Reverses the result, returns `False` if the result is true and vice versa.\n",
        "\n",
        "9. What is Type Casting in Python?\n",
        "- Type Casting is the process of changing the data type of a value/object.\n",
        "\n",
        "10. What is the differecne between implicit and explicit type casting?\n",
        "- Implicit Type Casting (Coercion):** Python automatically converts one data type to another without the user explicitly asking for it. This usually happens during operations where different data types are involved, and Python can safely convert one to match the other without data loss. For example, adding an integer and a float will result in a float.\n",
        "- Explicit Type Casting:** The user explicitly converts a data type to another using built-in functions like `int()`, `float()`, `str()`, `list()`, `tuple()`, etc. This is done when Python cannot automatically convert the types or when you want to ensure a specific type for an operation.\n",
        "\n",
        "11. What is the purpose of conditional statements in Python?\n",
        "- Conditionals in Python are fundamental constructs that enable programs to make decisions and control the flow of execution based on specific conditions. For exapmle - if you want to play football you may have some conditions like if the weather is sunny. I will go to play or else I will not.\n",
        "- if\n",
        "- if-else\n",
        "- if-elif-else\n",
        "- nested if-else\n",
        "\n",
        "12. How does the elif statement works?\n",
        "- The `elif` (short for \"else if\") statement in Python is used to check multiple conditions sequentially after an initial `if` statement. If the `if` condition is `False`, the program checks the `elif` condition. If the `elif` condition is `True`, the code block under that `elif` is executed. If it's `False`, the program moves on to the next `elif` or the `else` statement if one exists. Only the code block of the first `if` or `elif` that evaluates to `True` is executed.\n",
        "\n",
        "13. What is the difference between for and while loops?\n",
        "- **For Loop:** Used to iterate over a sequence (like a list, tuple, string, or range) or other iterable objects. The number of iterations is usually known beforehand or determined by the length of the sequence.\n",
        "- **While Loop:** Used to repeatedly execute a block of code as long as a given condition is true. The number of iterations is not necessarily known beforehand and depends on when the condition becomes false.\n",
        "\n",
        "14. Describe a scenario where a while loop is more suitable than a for loop.\n",
        "- A `while` loop is generally more suitable than a `for` loop when the number of iterations required is not known beforehand, and the loop should continue until a certain condition is met. A classic example is reading data from a file until the end of the file is reached, or when implementing algorithms that involve repeating an action until a specific state is achieved (e.g., in simulations or iterative numerical methods)."
      ]
    },
    {
      "cell_type": "code",
      "source": [
        "#Practical Questions\n",
        "#1. Write a Python program to print \"Hello, World!\"\n",
        "print(\"Hello, World!\")"
      ],
      "metadata": {
        "colab": {
          "base_uri": "https://localhost:8080/"
        },
        "id": "FlKAsMwxZnHq",
        "outputId": "b6c2c074-9e46-4354-937c-8862e331723b"
      },
      "execution_count": null,
      "outputs": [
        {
          "output_type": "stream",
          "name": "stdout",
          "text": [
            "Hello, World!\n"
          ]
        }
      ]
    },
    {
      "cell_type": "code",
      "source": [
        "#2. Write a Python program that displays your name and age.\n",
        "name = input(\"Please enter your name: \")\n",
        "age = input(\"Please enter your age: \")"
      ],
      "metadata": {
        "colab": {
          "base_uri": "https://localhost:8080/"
        },
        "id": "oIuK7vqDdAjz",
        "outputId": "e8b57e96-a8cd-4629-a44a-9fe108aec755"
      },
      "execution_count": null,
      "outputs": [
        {
          "name": "stdout",
          "output_type": "stream",
          "text": [
            "Please enter your name: Rimjhim Varu\n",
            "Please enter your age: 25\n"
          ]
        }
      ]
    },
    {
      "cell_type": "code",
      "source": [
        "#3. Write code to print all the pre-defined keywords in Python using the keywords library.\n",
        "help(\"keywords\")"
      ],
      "metadata": {
        "colab": {
          "base_uri": "https://localhost:8080/"
        },
        "id": "oD9VzgYLb0Vs",
        "outputId": "9afcf541-a2b2-4a6d-bdd1-3907b4560fbc"
      },
      "execution_count": null,
      "outputs": [
        {
          "output_type": "stream",
          "name": "stdout",
          "text": [
            "\n",
            "Here is a list of the Python keywords.  Enter any keyword to get more help.\n",
            "\n",
            "False               class               from                or\n",
            "None                continue            global              pass\n",
            "True                def                 if                  raise\n",
            "and                 del                 import              return\n",
            "as                  elif                in                  try\n",
            "assert              else                is                  while\n",
            "async               except              lambda              with\n",
            "await               finally             nonlocal            yield\n",
            "break               for                 not                 \n",
            "\n"
          ]
        }
      ]
    },
    {
      "cell_type": "code",
      "source": [
        "#4. Write a program that checks if a given word is a Python keyword.\n",
        "a = \"keyword\"\n",
        "if a == \"keyword\":\n",
        "    print(f\"{a} is a keyword\")\n",
        "else:\n",
        "    print(f\"{a} is not a keyword\")"
      ],
      "metadata": {
        "colab": {
          "base_uri": "https://localhost:8080/"
        },
        "id": "MCWqGCDBb0hY",
        "outputId": "73b5eb13-dac4-48cb-bac9-4745d1648730"
      },
      "execution_count": null,
      "outputs": [
        {
          "output_type": "stream",
          "name": "stdout",
          "text": [
            "keyword is a keyword\n"
          ]
        }
      ]
    },
    {
      "cell_type": "markdown",
      "source": [
        "#5. Create a list and tuple in Python, and demonstrate how attempting to change an element works different for each."
      ],
      "metadata": {
        "id": "k9FVo0uITLYN"
      }
    },
    {
      "cell_type": "code",
      "source": [
        "#list\n",
        "list_cont = [1, 2, 3, \"Hindi\", \"Maths\", \"English\"]\n",
        "list_cont"
      ],
      "metadata": {
        "colab": {
          "base_uri": "https://localhost:8080/"
        },
        "id": "Cnxdtn9Tc-Jv",
        "outputId": "7f06cf0a-ecb2-464c-c207-6baa8d336096"
      },
      "execution_count": null,
      "outputs": [
        {
          "output_type": "execute_result",
          "data": {
            "text/plain": [
              "[1, 2, 3, 'Hindi', 'Maths', 'English']"
            ]
          },
          "metadata": {},
          "execution_count": 6
        }
      ]
    },
    {
      "cell_type": "code",
      "source": [
        "list_cont[4] = \"Science\"\n",
        "list_cont"
      ],
      "metadata": {
        "colab": {
          "base_uri": "https://localhost:8080/"
        },
        "id": "xLB_qvw3c-VV",
        "outputId": "63c82bea-3be4-4641-f8ab-51784f779fa4"
      },
      "execution_count": null,
      "outputs": [
        {
          "output_type": "execute_result",
          "data": {
            "text/plain": [
              "[1, 2, 3, 'Hindi', 'Science', 'English']"
            ]
          },
          "metadata": {},
          "execution_count": 7
        }
      ]
    },
    {
      "cell_type": "code",
      "source": [
        "list_cont[-1]"
      ],
      "metadata": {
        "colab": {
          "base_uri": "https://localhost:8080/",
          "height": 36
        },
        "id": "3YJ70__uc-Z9",
        "outputId": "74802381-b46f-45f8-823c-6f79f1174ea4"
      },
      "execution_count": null,
      "outputs": [
        {
          "output_type": "execute_result",
          "data": {
            "text/plain": [
              "'English'"
            ],
            "application/vnd.google.colaboratory.intrinsic+json": {
              "type": "string"
            }
          },
          "metadata": {},
          "execution_count": 8
        }
      ]
    },
    {
      "cell_type": "code",
      "source": [
        "list_cont[5]"
      ],
      "metadata": {
        "colab": {
          "base_uri": "https://localhost:8080/",
          "height": 36
        },
        "id": "-Zj37xFrVNGu",
        "outputId": "0633d96c-5887-4abc-8996-87ebd6ce4739"
      },
      "execution_count": null,
      "outputs": [
        {
          "output_type": "execute_result",
          "data": {
            "text/plain": [
              "'English'"
            ],
            "application/vnd.google.colaboratory.intrinsic+json": {
              "type": "string"
            }
          },
          "metadata": {},
          "execution_count": 9
        }
      ]
    },
    {
      "cell_type": "code",
      "source": [
        "type(list_cont)"
      ],
      "metadata": {
        "colab": {
          "base_uri": "https://localhost:8080/"
        },
        "id": "02eUIsBPVNSy",
        "outputId": "a9bd5cc0-7a60-4d1f-9e8e-1f5b237e5707"
      },
      "execution_count": null,
      "outputs": [
        {
          "output_type": "execute_result",
          "data": {
            "text/plain": [
              "list"
            ]
          },
          "metadata": {},
          "execution_count": 10
        }
      ]
    },
    {
      "cell_type": "code",
      "source": [
        "#tuple\n",
        "my_tuple = (1, 2, 3)\n",
        "my_tuple[0] = 10\n",
        "print(my_tuple)"
      ],
      "metadata": {
        "colab": {
          "base_uri": "https://localhost:8080/",
          "height": 193
        },
        "id": "RXm1FTWsfWsH",
        "outputId": "ce5e983a-bf27-47c7-872c-96ac055cfb8b"
      },
      "execution_count": 1,
      "outputs": [
        {
          "output_type": "error",
          "ename": "TypeError",
          "evalue": "'tuple' object does not support item assignment",
          "traceback": [
            "\u001b[0;31m---------------------------------------------------------------------------\u001b[0m",
            "\u001b[0;31mTypeError\u001b[0m                                 Traceback (most recent call last)",
            "\u001b[0;32m/tmp/ipython-input-1-56449320.py\u001b[0m in \u001b[0;36m<cell line: 0>\u001b[0;34m()\u001b[0m\n\u001b[1;32m      1\u001b[0m \u001b[0;31m#tuple\u001b[0m\u001b[0;34m\u001b[0m\u001b[0;34m\u001b[0m\u001b[0m\n\u001b[1;32m      2\u001b[0m \u001b[0mmy_tuple\u001b[0m \u001b[0;34m=\u001b[0m \u001b[0;34m(\u001b[0m\u001b[0;36m1\u001b[0m\u001b[0;34m,\u001b[0m \u001b[0;36m2\u001b[0m\u001b[0;34m,\u001b[0m \u001b[0;36m3\u001b[0m\u001b[0;34m)\u001b[0m\u001b[0;34m\u001b[0m\u001b[0;34m\u001b[0m\u001b[0m\n\u001b[0;32m----> 3\u001b[0;31m \u001b[0mmy_tuple\u001b[0m\u001b[0;34m[\u001b[0m\u001b[0;36m0\u001b[0m\u001b[0;34m]\u001b[0m \u001b[0;34m=\u001b[0m \u001b[0;36m10\u001b[0m\u001b[0;34m\u001b[0m\u001b[0;34m\u001b[0m\u001b[0m\n\u001b[0m\u001b[1;32m      4\u001b[0m \u001b[0mprint\u001b[0m\u001b[0;34m(\u001b[0m\u001b[0mmy_tuple\u001b[0m\u001b[0;34m)\u001b[0m\u001b[0;34m\u001b[0m\u001b[0;34m\u001b[0m\u001b[0m\n",
            "\u001b[0;31mTypeError\u001b[0m: 'tuple' object does not support item assignment"
          ]
        }
      ]
    },
    {
      "cell_type": "code",
      "source": [
        "#6. Write a function to demonstrate the behaviour of mutable & immutable arguments.\n",
        "#mutable objects can be changed after they are created >>for example list is a type of mutable object\n",
        "list_cont = [1, 2, 3, \"Hindi\", \"Maths\", \"English\"]\n",
        "list_cont"
      ],
      "metadata": {
        "colab": {
          "base_uri": "https://localhost:8080/"
        },
        "id": "yhBZkRiFVWsL",
        "outputId": "78cd0ded-1c76-4506-b634-f82831ba25ac"
      },
      "execution_count": null,
      "outputs": [
        {
          "output_type": "execute_result",
          "data": {
            "text/plain": [
              "[1, 2, 3, 'Hindi', 'Maths', 'English']"
            ]
          },
          "metadata": {},
          "execution_count": 12
        }
      ]
    },
    {
      "cell_type": "code",
      "source": [
        "list_cont[0] = 100\n",
        "list_cont #>>mutability changes the value"
      ],
      "metadata": {
        "colab": {
          "base_uri": "https://localhost:8080/"
        },
        "id": "PrJjaDC8VWu5",
        "outputId": "bf0f7a83-a15d-44c6-b40b-316adea0276e"
      },
      "execution_count": null,
      "outputs": [
        {
          "output_type": "execute_result",
          "data": {
            "text/plain": [
              "[100, 2, 3, 'Hindi', 'Maths', 'English']"
            ]
          },
          "metadata": {},
          "execution_count": 13
        }
      ]
    },
    {
      "cell_type": "code",
      "source": [
        "#immutable objects cannot be changed after they are created >>for example string is a immutable object\n",
        "b = \"My name is Pavni\"\n",
        "b"
      ],
      "metadata": {
        "colab": {
          "base_uri": "https://localhost:8080/",
          "height": 36
        },
        "id": "uY2VQuETVWxG",
        "outputId": "b29e883c-1c64-4a8a-f60b-02ef70922b85"
      },
      "execution_count": null,
      "outputs": [
        {
          "output_type": "execute_result",
          "data": {
            "text/plain": [
              "'My name is Pavni'"
            ],
            "application/vnd.google.colaboratory.intrinsic+json": {
              "type": "string"
            }
          },
          "metadata": {},
          "execution_count": 14
        }
      ]
    },
    {
      "cell_type": "code",
      "source": [
        "b[0]\n",
        "b"
      ],
      "metadata": {
        "colab": {
          "base_uri": "https://localhost:8080/",
          "height": 36
        },
        "id": "QR_ltw59VWz2",
        "outputId": "32660a69-7729-4e45-de26-f18099b717f5"
      },
      "execution_count": null,
      "outputs": [
        {
          "output_type": "execute_result",
          "data": {
            "text/plain": [
              "'My name is Pavni'"
            ],
            "application/vnd.google.colaboratory.intrinsic+json": {
              "type": "string"
            }
          },
          "metadata": {},
          "execution_count": 15
        }
      ]
    },
    {
      "cell_type": "code",
      "source": [
        "b[0] = \"It\" #>>immutability cannot change the value"
      ],
      "metadata": {
        "colab": {
          "base_uri": "https://localhost:8080/",
          "height": 141
        },
        "id": "sANX-4BwVW3b",
        "outputId": "5b97c037-a737-4f47-e0c4-9819cd9668ed"
      },
      "execution_count": null,
      "outputs": [
        {
          "output_type": "error",
          "ename": "TypeError",
          "evalue": "'str' object does not support item assignment",
          "traceback": [
            "\u001b[0;31m---------------------------------------------------------------------------\u001b[0m",
            "\u001b[0;31mTypeError\u001b[0m                                 Traceback (most recent call last)",
            "\u001b[0;32m/tmp/ipython-input-16-2681230445.py\u001b[0m in \u001b[0;36m<cell line: 0>\u001b[0;34m()\u001b[0m\n\u001b[0;32m----> 1\u001b[0;31m \u001b[0mb\u001b[0m\u001b[0;34m[\u001b[0m\u001b[0;36m0\u001b[0m\u001b[0;34m]\u001b[0m \u001b[0;34m=\u001b[0m \u001b[0;34m\"It\"\u001b[0m\u001b[0;34m\u001b[0m\u001b[0;34m\u001b[0m\u001b[0m\n\u001b[0m",
            "\u001b[0;31mTypeError\u001b[0m: 'str' object does not support item assignment"
          ]
        }
      ]
    },
    {
      "cell_type": "code",
      "source": [
        "#7. Write a program that performs basic arithmetic operations on two user-input numbers.\n",
        "add = 10 + 20\n",
        "sub = 10 - 20\n",
        "mul = 10 * 20\n",
        "div = 10 / 20\n",
        "add, sub, mul, div"
      ],
      "metadata": {
        "colab": {
          "base_uri": "https://localhost:8080/"
        },
        "id": "gwFepvXZYt7Q",
        "outputId": "b5f2a1ea-ceb0-4657-e2d2-974e326558cc"
      },
      "execution_count": null,
      "outputs": [
        {
          "output_type": "execute_result",
          "data": {
            "text/plain": [
              "(30, -10, 200, 0.5)"
            ]
          },
          "metadata": {},
          "execution_count": 18
        }
      ]
    },
    {
      "cell_type": "code",
      "source": [
        "a = int(input(\"Enter first number: \"))\n",
        "b = int(input(\"Enter second number: \"))\n",
        "add = a + b\n",
        "sub = a - b\n",
        "mul = a * b\n",
        "div = a / b\n",
        "add, sub, mul, div"
      ],
      "metadata": {
        "id": "DFlJJMInYt-l",
        "colab": {
          "base_uri": "https://localhost:8080/"
        },
        "outputId": "d4537d0b-6ffc-4067-8c40-2d4eeade9901"
      },
      "execution_count": null,
      "outputs": [
        {
          "name": "stdout",
          "output_type": "stream",
          "text": [
            "Enter first number: 100\n",
            "Enter second number: 2\n"
          ]
        },
        {
          "output_type": "execute_result",
          "data": {
            "text/plain": [
              "(102, 98, 200, 50.0)"
            ]
          },
          "metadata": {},
          "execution_count": 19
        }
      ]
    },
    {
      "cell_type": "code",
      "source": [
        "#8. Write a program to demonstrate the use of logical operators.\n",
        "#logical operators - AND, OR, NOT\n",
        "True and True"
      ],
      "metadata": {
        "id": "0Z8CPowNYuCE",
        "colab": {
          "base_uri": "https://localhost:8080/"
        },
        "outputId": "761eec4f-3454-4d8f-e1e5-f1a633ae312f"
      },
      "execution_count": null,
      "outputs": [
        {
          "output_type": "execute_result",
          "data": {
            "text/plain": [
              "True"
            ]
          },
          "metadata": {},
          "execution_count": 3
        }
      ]
    },
    {
      "cell_type": "code",
      "source": [
        "#9. Write a Python programe to convert user input from string to integer, float and boolean types.\n",
        "#string to interger\n",
        "a =\"10\"\n",
        "print(type(a))\n",
        "print(type(int(a)))"
      ],
      "metadata": {
        "colab": {
          "base_uri": "https://localhost:8080/"
        },
        "id": "Gg9psOoLnijQ",
        "outputId": "9098be5f-7d7d-49a5-86b5-bbb4f46e0f26"
      },
      "execution_count": null,
      "outputs": [
        {
          "output_type": "stream",
          "name": "stdout",
          "text": [
            "<class 'str'>\n",
            "<class 'int'>\n"
          ]
        }
      ]
    },
    {
      "cell_type": "code",
      "source": [
        "int(a)"
      ],
      "metadata": {
        "colab": {
          "base_uri": "https://localhost:8080/"
        },
        "id": "O0bUO8Kqnilc",
        "outputId": "3e533b4e-8c11-474c-ca08-5dffd142837d"
      },
      "execution_count": null,
      "outputs": [
        {
          "output_type": "execute_result",
          "data": {
            "text/plain": [
              "10"
            ]
          },
          "metadata": {},
          "execution_count": 6
        }
      ]
    },
    {
      "cell_type": "code",
      "source": [
        "#float to integer\n",
        "a = 3.4\n",
        "type(a)\n"
      ],
      "metadata": {
        "colab": {
          "base_uri": "https://localhost:8080/"
        },
        "id": "M0bf5_LlninZ",
        "outputId": "ee5ade6d-4cc0-4e68-a185-5e4d30f9b56e"
      },
      "execution_count": null,
      "outputs": [
        {
          "output_type": "execute_result",
          "data": {
            "text/plain": [
              "float"
            ]
          },
          "metadata": {},
          "execution_count": 7
        }
      ]
    },
    {
      "cell_type": "code",
      "source": [
        "a"
      ],
      "metadata": {
        "colab": {
          "base_uri": "https://localhost:8080/"
        },
        "id": "sX8Z1AQFniq2",
        "outputId": "c490d883-90cd-41ea-9235-0db53cd851bc"
      },
      "execution_count": null,
      "outputs": [
        {
          "output_type": "execute_result",
          "data": {
            "text/plain": [
              "3.4"
            ]
          },
          "metadata": {},
          "execution_count": 8
        }
      ]
    },
    {
      "cell_type": "code",
      "source": [
        "int(a)"
      ],
      "metadata": {
        "colab": {
          "base_uri": "https://localhost:8080/"
        },
        "id": "173gEokBq6-M",
        "outputId": "1e742ccd-6ef9-4cb3-cc2c-ff552260bb34"
      },
      "execution_count": null,
      "outputs": [
        {
          "output_type": "execute_result",
          "data": {
            "text/plain": [
              "3"
            ]
          },
          "metadata": {},
          "execution_count": 9
        }
      ]
    },
    {
      "cell_type": "code",
      "source": [
        "#integer to float\n",
        "a = 33\n",
        "type(a)"
      ],
      "metadata": {
        "colab": {
          "base_uri": "https://localhost:8080/"
        },
        "id": "k8eyBqWgq7Rr",
        "outputId": "dc34a4dc-f0c3-454a-a294-4e9ce7887df0"
      },
      "execution_count": null,
      "outputs": [
        {
          "output_type": "execute_result",
          "data": {
            "text/plain": [
              "int"
            ]
          },
          "metadata": {},
          "execution_count": 10
        }
      ]
    },
    {
      "cell_type": "code",
      "source": [
        "b = float(a)\n",
        "b"
      ],
      "metadata": {
        "colab": {
          "base_uri": "https://localhost:8080/"
        },
        "id": "5_2bD6P7rFcu",
        "outputId": "dac92ad3-2290-4df5-a135-d736ae509207"
      },
      "execution_count": null,
      "outputs": [
        {
          "output_type": "execute_result",
          "data": {
            "text/plain": [
              "33.0"
            ]
          },
          "metadata": {},
          "execution_count": 11
        }
      ]
    },
    {
      "cell_type": "code",
      "source": [
        "type(b)"
      ],
      "metadata": {
        "colab": {
          "base_uri": "https://localhost:8080/"
        },
        "id": "V8uCsuDMrFtA",
        "outputId": "642a8949-ad77-4d46-8525-e876acab473e"
      },
      "execution_count": null,
      "outputs": [
        {
          "output_type": "execute_result",
          "data": {
            "text/plain": [
              "float"
            ]
          },
          "metadata": {},
          "execution_count": 12
        }
      ]
    },
    {
      "cell_type": "code",
      "source": [
        "#string to float\n",
        "a = \"3.4\"\n",
        "type(a)"
      ],
      "metadata": {
        "colab": {
          "base_uri": "https://localhost:8080/"
        },
        "id": "3hQWjhe4rQkR",
        "outputId": "7e5cbdb4-ac42-4d64-c635-16122edac3d1"
      },
      "execution_count": null,
      "outputs": [
        {
          "output_type": "execute_result",
          "data": {
            "text/plain": [
              "str"
            ]
          },
          "metadata": {},
          "execution_count": 13
        }
      ]
    },
    {
      "cell_type": "code",
      "source": [
        "float(a)"
      ],
      "metadata": {
        "colab": {
          "base_uri": "https://localhost:8080/"
        },
        "id": "XKSxYikXrQvz",
        "outputId": "32b1aa67-9ac0-485b-9e8a-909e19bdf7a1"
      },
      "execution_count": null,
      "outputs": [
        {
          "output_type": "execute_result",
          "data": {
            "text/plain": [
              "3.4"
            ]
          },
          "metadata": {},
          "execution_count": 14
        }
      ]
    },
    {
      "cell_type": "code",
      "source": [
        "#integer to string\n",
        "a = 33\n",
        "type(a)"
      ],
      "metadata": {
        "colab": {
          "base_uri": "https://localhost:8080/"
        },
        "id": "zpAINSNbr_N0",
        "outputId": "315ad83e-2830-4ecf-9d81-6ac0f6f2db01"
      },
      "execution_count": null,
      "outputs": [
        {
          "output_type": "execute_result",
          "data": {
            "text/plain": [
              "int"
            ]
          },
          "metadata": {},
          "execution_count": 15
        }
      ]
    },
    {
      "cell_type": "code",
      "source": [
        "str(a)"
      ],
      "metadata": {
        "colab": {
          "base_uri": "https://localhost:8080/",
          "height": 36
        },
        "id": "4bleBoPRsHRy",
        "outputId": "c1bbdea0-8618-4638-a320-10992b0ea70e"
      },
      "execution_count": null,
      "outputs": [
        {
          "output_type": "execute_result",
          "data": {
            "text/plain": [
              "'33'"
            ],
            "application/vnd.google.colaboratory.intrinsic+json": {
              "type": "string"
            }
          },
          "metadata": {},
          "execution_count": 16
        }
      ]
    },
    {
      "cell_type": "code",
      "source": [
        "a = \"You\" #>>characters can not be changed into numbers\n",
        "type(a)"
      ],
      "metadata": {
        "colab": {
          "base_uri": "https://localhost:8080/"
        },
        "id": "b9MjcZUEr_Yu",
        "outputId": "7acd8548-d198-4643-e891-7cf06abeabb9"
      },
      "execution_count": null,
      "outputs": [
        {
          "output_type": "execute_result",
          "data": {
            "text/plain": [
              "str"
            ]
          },
          "metadata": {},
          "execution_count": 17
        }
      ]
    },
    {
      "cell_type": "code",
      "source": [
        "int(a)"
      ],
      "metadata": {
        "colab": {
          "base_uri": "https://localhost:8080/",
          "height": 141
        },
        "id": "n8BxOtSRsUHY",
        "outputId": "529e38ed-4c3c-456c-fb6b-95492485cb58"
      },
      "execution_count": null,
      "outputs": [
        {
          "output_type": "error",
          "ename": "ValueError",
          "evalue": "invalid literal for int() with base 10: 'You'",
          "traceback": [
            "\u001b[0;31m---------------------------------------------------------------------------\u001b[0m",
            "\u001b[0;31mValueError\u001b[0m                                Traceback (most recent call last)",
            "\u001b[0;32m/tmp/ipython-input-18-766485689.py\u001b[0m in \u001b[0;36m<cell line: 0>\u001b[0;34m()\u001b[0m\n\u001b[0;32m----> 1\u001b[0;31m \u001b[0mint\u001b[0m\u001b[0;34m(\u001b[0m\u001b[0ma\u001b[0m\u001b[0;34m)\u001b[0m\u001b[0;34m\u001b[0m\u001b[0;34m\u001b[0m\u001b[0m\n\u001b[0m",
            "\u001b[0;31mValueError\u001b[0m: invalid literal for int() with base 10: 'You'"
          ]
        }
      ]
    },
    {
      "cell_type": "code",
      "source": [
        "#10. Write a code to demonstrate type casting with list elements.\n",
        "#type casting is the process of changing the data type of a value/object.\n",
        "list_cont = [\"Paper\", \"Pen\", \"Books\", \"Pencil\", \"Bag\"]\n",
        "list_cont"
      ],
      "metadata": {
        "colab": {
          "base_uri": "https://localhost:8080/"
        },
        "id": "4xZVHOdUsgax",
        "outputId": "0249c982-bfc5-43f5-cf72-61c629bfb833"
      },
      "execution_count": null,
      "outputs": [
        {
          "output_type": "execute_result",
          "data": {
            "text/plain": [
              "['Paper', 'Pen', 'Books', 'Pencil', 'Bag']"
            ]
          },
          "metadata": {},
          "execution_count": 20
        }
      ]
    },
    {
      "cell_type": "code",
      "source": [
        "list_cont[3]"
      ],
      "metadata": {
        "colab": {
          "base_uri": "https://localhost:8080/",
          "height": 36
        },
        "id": "Z7pNkF9FzJCX",
        "outputId": "f70c2f6f-7ae5-4085-b7f6-705e50c9e198"
      },
      "execution_count": null,
      "outputs": [
        {
          "output_type": "execute_result",
          "data": {
            "text/plain": [
              "'Pencil'"
            ],
            "application/vnd.google.colaboratory.intrinsic+json": {
              "type": "string"
            }
          },
          "metadata": {},
          "execution_count": 21
        }
      ]
    },
    {
      "cell_type": "code",
      "source": [
        "list_cont[3] = \"Eraser\"\n",
        "list_cont"
      ],
      "metadata": {
        "colab": {
          "base_uri": "https://localhost:8080/"
        },
        "id": "-3ud_87mzJNU",
        "outputId": "a5eb3ffd-d525-4398-bd81-cb47be680435"
      },
      "execution_count": null,
      "outputs": [
        {
          "output_type": "execute_result",
          "data": {
            "text/plain": [
              "['Paper', 'Pen', 'Books', 'Eraser', 'Bag']"
            ]
          },
          "metadata": {},
          "execution_count": 22
        }
      ]
    },
    {
      "cell_type": "code",
      "source": [
        "#11. Write a program that checks if a number is positive, negative or zero.\n",
        "a = int(input(\"Enter a number: \"))\n",
        "if a > 0:\n",
        "    print(f\"{a} is positive\")\n",
        "elif a < 0:\n",
        "    print(f\"{a} is negative\")\n",
        "else:\n",
        "    print(f\"{a} is zero\")"
      ],
      "metadata": {
        "colab": {
          "base_uri": "https://localhost:8080/"
        },
        "id": "wbkuVgXxzds1",
        "outputId": "d128494b-29ac-40b5-fb5d-44073602455a"
      },
      "execution_count": null,
      "outputs": [
        {
          "output_type": "stream",
          "name": "stdout",
          "text": [
            "Enter a number: 22\n",
            "22 is positive\n"
          ]
        }
      ]
    },
    {
      "cell_type": "code",
      "source": [
        "a = int(input(\"Enter a number: \"))\n",
        "if a > 0:\n",
        "  print(f\"{a} is positive\")\n",
        "elif a < 0:\n",
        "  print(f\"{a} is negative\")\n",
        "else:\n",
        "  print(f\"{a} is zero\")"
      ],
      "metadata": {
        "colab": {
          "base_uri": "https://localhost:8080/"
        },
        "id": "Mv3cQs8mzeKl",
        "outputId": "fe53049e-b214-4ee6-b6ea-e0d945040e76"
      },
      "execution_count": null,
      "outputs": [
        {
          "output_type": "stream",
          "name": "stdout",
          "text": [
            "Enter a number: -66\n",
            "-66 is negative\n"
          ]
        }
      ]
    },
    {
      "cell_type": "code",
      "source": [
        "a = int(input(\"Enter a number: \"))\n",
        "if a > 0:\n",
        "  print(f\"{a} is positive\")\n",
        "elif a < 0:\n",
        "  print(f\"{a} is negative\")\n",
        "else:\n",
        "  print(f\"{a} is zero\")"
      ],
      "metadata": {
        "colab": {
          "base_uri": "https://localhost:8080/"
        },
        "id": "UJn-Z-2g0bZe",
        "outputId": "d6256a28-0351-4744-c984-63a318d505fa"
      },
      "execution_count": null,
      "outputs": [
        {
          "output_type": "stream",
          "name": "stdout",
          "text": [
            "Enter a number: 0\n",
            "0 is zero\n"
          ]
        }
      ]
    },
    {
      "cell_type": "code",
      "source": [
        "#12. Write a for loop to print numbers fron 1 to 10.\n",
        "for i in range(1, 11):\n",
        "  print(i)"
      ],
      "metadata": {
        "colab": {
          "base_uri": "https://localhost:8080/"
        },
        "id": "nf466z050hxW",
        "outputId": "f1bb0f2f-e6e5-4548-fc07-99c36df2514d"
      },
      "execution_count": null,
      "outputs": [
        {
          "output_type": "stream",
          "name": "stdout",
          "text": [
            "1\n",
            "2\n",
            "3\n",
            "4\n",
            "5\n",
            "6\n",
            "7\n",
            "8\n",
            "9\n",
            "10\n"
          ]
        }
      ]
    },
    {
      "cell_type": "code",
      "source": [
        "#13. Write a Python programe to find the sum of all even numbers between 1 and 50.\n",
        "list(range(2, 51, 2))\n",
        "print(sum(list(range(2, 51, 2))))"
      ],
      "metadata": {
        "colab": {
          "base_uri": "https://localhost:8080/"
        },
        "id": "wsYP1QNh1QZg",
        "outputId": "0b9e233d-2b91-49d5-a66b-26131aeba486"
      },
      "execution_count": 5,
      "outputs": [
        {
          "output_type": "stream",
          "name": "stdout",
          "text": [
            "650\n"
          ]
        }
      ]
    },
    {
      "cell_type": "code",
      "source": [
        "#14. Write a program to rverse a string using a while loop."
      ],
      "metadata": {
        "id": "uZ35MMtl9vZv"
      },
      "execution_count": 8,
      "outputs": []
    },
    {
      "cell_type": "code",
      "source": [
        "#15. Write a Python program to calculate the factorial of a number provided by the user using a while loop.\n"
      ],
      "metadata": {
        "id": "qDkHPrYTAsSK"
      },
      "execution_count": null,
      "outputs": []
    }
  ]
}